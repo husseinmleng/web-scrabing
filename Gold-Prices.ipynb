{
 "cells": [
  {
   "cell_type": "markdown",
   "id": "0c03a212",
   "metadata": {},
   "source": [
    "## Gold Prices for Egpyt "
   ]
  },
  {
   "cell_type": "code",
   "execution_count": 1,
   "id": "af2699e4",
   "metadata": {},
   "outputs": [],
   "source": [
    "import requests \n",
    "from bs4 import BeautifulSoup\n",
    "import csv"
   ]
  },
  {
   "cell_type": "code",
   "execution_count": 2,
   "id": "adb26908",
   "metadata": {},
   "outputs": [],
   "source": [
    "url = 'http://goldpricez.com/eg/gram'\n",
    "response = requests.get(url)\n",
    "soup = BeautifulSoup(response.text,'html.parser')"
   ]
  },
  {
   "cell_type": "code",
   "execution_count": 3,
   "id": "31e5db74",
   "metadata": {
    "scrolled": true
   },
   "outputs": [
    {
     "data": {
      "text/plain": [
       "[<tr> <th>Gold Unit</th><th>Gold Rate in Egyptian Pound</th> </tr>,\n",
       " <tr> <td class=\"header2_center\">Gram 24K </td><td class=\"header2_center\">2,017.9  EGP</td> </tr>,\n",
       " <tr> <td class=\"header2_center\">Gram 23K </td><td class=\"header2_center\">1,933.8  EGP</td> </tr>,\n",
       " <tr> <td class=\"header2_center\">Gram 22K </td><td class=\"header2_center\">1,849.8  EGP</td> </tr>,\n",
       " <tr> <td class=\"header2_center\">Gram 21K </td><td class=\"header2_center\">1,765.7  EGP</td> </tr>,\n",
       " <tr> <td class=\"header2_center\">Gram 18K </td><td class=\"header2_center\">1,513.4  EGP</td> </tr>,\n",
       " <tr> <td class=\"header2_center\">Gram 16K </td><td class=\"header2_center\">1,345.3  EGP</td> </tr>,\n",
       " <tr> <td class=\"header2_center\">Gram 14K </td><td class=\"header2_center\">1,177.1  EGP</td> </tr>,\n",
       " <tr> <td class=\"header2_center\">Gram 12K </td><td class=\"header2_center\">1,009.0  EGP</td> </tr>,\n",
       " <tr> <td class=\"header2_center\">Gram 10K </td><td class=\"header2_center\">840.8  EGP</td> </tr>,\n",
       " <tr> <td class=\"header2_center\">Gram 9K </td><td class=\"header2_center\">756.7  EGP</td> </tr>,\n",
       " <tr> <td class=\"header2_center\">Gram 8K </td><td class=\"header2_center\">672.6  EGP</td> </tr>,\n",
       " <tr> <td class=\"header2_center\">Gram 6K </td><td class=\"header2_center\">504.5  EGP</td> </tr>]"
      ]
     },
     "execution_count": 3,
     "metadata": {},
     "output_type": "execute_result"
    }
   ],
   "source": [
    "soup.find('table', attrs={\"id\":\"gold_price_table2\"}).find_all('tr')"
   ]
  },
  {
   "cell_type": "code",
   "execution_count": 10,
   "id": "c13c3b1d",
   "metadata": {},
   "outputs": [
    {
     "data": {
      "text/plain": [
       "[<tr>\n",
       " <td>\n",
       "         Current Price:</td><td> 2,018.1 EGP      </td>\n",
       " </tr>,\n",
       " <tr>\n",
       " <td>\n",
       "             Today Low Price:</td> <td>  2,008.4 EGP \n",
       "          </td>\n",
       " </tr>,\n",
       " <tr>\n",
       " <td>\n",
       "             Today High Price:</td> <td> \n",
       "              2,035.1 EGP  \n",
       "                </td>\n",
       " </tr>,\n",
       " <tr>\n",
       " <td>\n",
       " <br/> Today  1 USD: \n",
       "     </td>\n",
       " <td>\n",
       " <br/> 30.9019 EGP     </td>\n",
       " </tr>,\n",
       " <tr>\n",
       " <td> \n",
       "     Today  1 EGP: \n",
       "     </td>\n",
       " <td>\n",
       "        $0.03236 USD     </td>\n",
       " </tr>]"
      ]
     },
     "execution_count": 10,
     "metadata": {},
     "output_type": "execute_result"
    }
   ],
   "source": [
    "soup.find('table', attrs={\"class\":\"tb\"}).find_all('tr')"
   ]
  },
  {
   "cell_type": "code",
   "execution_count": 12,
   "id": "d5cad961",
   "metadata": {},
   "outputs": [
    {
     "data": {
      "text/plain": [
       "['Current Price: 2,018.1 EGP',\n",
       " 'Today Low Price:   2,008.4 EGP',\n",
       " 'Today High Price:  \\n             2,035.1 EGP',\n",
       " 'Today  1 USD: \\n    \\n\\n 30.9019 EGP',\n",
       " 'Today  1 EGP: \\n    \\n\\n       $0.03236 USD']"
      ]
     },
     "execution_count": 12,
     "metadata": {},
     "output_type": "execute_result"
    }
   ],
   "source": [
    "my_list = [i.get_text().strip() for i in soup.find('table', attrs={\"class\":\"tb\"}).find_all('tr')]\n",
    "my_list"
   ]
  },
  {
   "cell_type": "code",
   "execution_count": 4,
   "id": "9c64645f",
   "metadata": {},
   "outputs": [],
   "source": [
    "def get_gold_price_per_country(url):\n",
    "    response = requests.get(url)\n",
    "    soup = BeautifulSoup(response.text,'html.parser')\n",
    "    my_list = [i.get_text().strip() for i in soup.find('table', attrs={\"id\":\"gold_price_table2\"}).find_all('td')]\n",
    "    units = [my_list[i] for i in range(0,len(my_list),2)]\n",
    "    prices = [my_list[i] for i in range(1,len(my_list),2)]\n",
    "    data = {unit: price for unit, price in zip(units,prices)}"
   ]
  },
  {
   "cell_type": "code",
   "execution_count": 5,
   "id": "c17cedce",
   "metadata": {},
   "outputs": [],
   "source": [
    "my_list = [i.get_text().strip() for i in soup.find('table', attrs={\"id\":\"gold_price_table2\"}).find_all('td')]"
   ]
  },
  {
   "cell_type": "code",
   "execution_count": 6,
   "id": "549ef1f6",
   "metadata": {},
   "outputs": [
    {
     "data": {
      "text/plain": [
       "['Gram 24K',\n",
       " '2,017.9  EGP',\n",
       " 'Gram 23K',\n",
       " '1,933.8  EGP',\n",
       " 'Gram 22K',\n",
       " '1,849.8  EGP',\n",
       " 'Gram 21K',\n",
       " '1,765.7  EGP',\n",
       " 'Gram 18K',\n",
       " '1,513.4  EGP',\n",
       " 'Gram 16K',\n",
       " '1,345.3  EGP',\n",
       " 'Gram 14K',\n",
       " '1,177.1  EGP',\n",
       " 'Gram 12K',\n",
       " '1,009.0  EGP',\n",
       " 'Gram 10K',\n",
       " '840.8  EGP',\n",
       " 'Gram 9K',\n",
       " '756.7  EGP',\n",
       " 'Gram 8K',\n",
       " '672.6  EGP',\n",
       " 'Gram 6K',\n",
       " '504.5  EGP']"
      ]
     },
     "execution_count": 6,
     "metadata": {},
     "output_type": "execute_result"
    }
   ],
   "source": [
    "my_list"
   ]
  },
  {
   "cell_type": "code",
   "execution_count": 7,
   "id": "1771e12e",
   "metadata": {},
   "outputs": [
    {
     "data": {
      "text/plain": [
       "['Gram 24K',\n",
       " 'Gram 23K',\n",
       " 'Gram 22K',\n",
       " 'Gram 21K',\n",
       " 'Gram 18K',\n",
       " 'Gram 16K',\n",
       " 'Gram 14K',\n",
       " 'Gram 12K',\n",
       " 'Gram 10K',\n",
       " 'Gram 9K',\n",
       " 'Gram 8K',\n",
       " 'Gram 6K']"
      ]
     },
     "execution_count": 7,
     "metadata": {},
     "output_type": "execute_result"
    }
   ],
   "source": [
    "units = [my_list[i] for i in range(0,len(my_list),2)]\n",
    "units"
   ]
  },
  {
   "cell_type": "code",
   "execution_count": 8,
   "id": "dc859836",
   "metadata": {},
   "outputs": [
    {
     "data": {
      "text/plain": [
       "['2,017.9  EGP',\n",
       " '1,933.8  EGP',\n",
       " '1,849.8  EGP',\n",
       " '1,765.7  EGP',\n",
       " '1,513.4  EGP',\n",
       " '1,345.3  EGP',\n",
       " '1,177.1  EGP',\n",
       " '1,009.0  EGP',\n",
       " '840.8  EGP',\n",
       " '756.7  EGP',\n",
       " '672.6  EGP',\n",
       " '504.5  EGP']"
      ]
     },
     "execution_count": 8,
     "metadata": {},
     "output_type": "execute_result"
    }
   ],
   "source": [
    "prices = [my_list[i] for i in range(1,len(my_list),2)]\n",
    "# prices = [float(i.split()[0]) for i in prices]\n",
    "prices"
   ]
  },
  {
   "cell_type": "code",
   "execution_count": 38,
   "id": "ebe37b87",
   "metadata": {},
   "outputs": [
    {
     "data": {
      "text/plain": [
       "{'Gram 24K': '881.87  EGP',\n",
       " 'Gram 23K': '845.12  EGP',\n",
       " 'Gram 22K': '808.38  EGP',\n",
       " 'Gram 21K': '771.63  EGP',\n",
       " 'Gram 18K': '661.40  EGP',\n",
       " 'Gram 16K': '587.91  EGP',\n",
       " 'Gram 14K': '514.42  EGP',\n",
       " 'Gram 12K': '440.93  EGP',\n",
       " 'Gram 10K': '367.44  EGP',\n",
       " 'Gram 9K': '330.70  EGP',\n",
       " 'Gram 8K': '293.96  EGP',\n",
       " 'Gram 6K': '220.47  EGP'}"
      ]
     },
     "execution_count": 38,
     "metadata": {},
     "output_type": "execute_result"
    }
   ],
   "source": [
    "data = {unit: price for unit, price in zip(units,prices)}\n",
    "data"
   ]
  },
  {
   "cell_type": "code",
   "execution_count": 34,
   "id": "87d50708",
   "metadata": {},
   "outputs": [],
   "source": [
    "with open(\"Gold.csv\",'w') as csv_file:\n",
    "    writer = csv.DictWriter(csv_file,fieldnames=[\"Unit\", \"Price\"])\n",
    "    writer.writeheader()\n",
    "    for key, value in data.items():\n",
    "        writer.writerow({\"Unit\":key,\"Price\":value})"
   ]
  },
  {
   "cell_type": "markdown",
   "id": "60d583ec",
   "metadata": {},
   "source": [
    "## Gold Prices for all Countries"
   ]
  },
  {
   "cell_type": "code",
   "execution_count": 41,
   "id": "253837de",
   "metadata": {},
   "outputs": [],
   "source": [
    "url = 'http://goldpricez.com/'\n",
    "response = requests.get(url)\n",
    "soup = BeautifulSoup(response.text,'html.parser')"
   ]
  },
  {
   "cell_type": "code",
   "execution_count": 46,
   "id": "d333ded5",
   "metadata": {},
   "outputs": [
    {
     "data": {
      "text/plain": [
       "['China',\n",
       " 'Europe',\n",
       " 'Brazil',\n",
       " 'Belgium',\n",
       " 'Japan',\n",
       " 'Russia',\n",
       " 'Nigeria',\n",
       " 'Mexico',\n",
       " 'Indonesia',\n",
       " 'Vietnam',\n",
       " 'South Korea',\n",
       " 'Turkey',\n",
       " 'Philippines',\n",
       " 'Iran',\n",
       " 'Egypt',\n",
       " 'Argentina',\n",
       " 'South Africa',\n",
       " 'Colombia',\n",
       " 'Thailand',\n",
       " 'Poland',\n",
       " 'Ukraine',\n",
       " 'Malaysia',\n",
       " 'Kenya',\n",
       " 'Morocco',\n",
       " 'Venezuela',\n",
       " 'Taiwan',\n",
       " 'Algeria',\n",
       " 'Kazakhstan',\n",
       " 'Peru',\n",
       " 'Uzbekistan',\n",
       " 'Myanmar',\n",
       " 'Chile',\n",
       " 'Ethiopia',\n",
       " 'Romania',\n",
       " 'Sudan',\n",
       " 'Sweden',\n",
       " 'Azerbaijan',\n",
       " 'Uganda',\n",
       " 'Switzerland',\n",
       " 'Hungary',\n",
       " 'Yemen',\n",
       " 'Ghana',\n",
       " 'Iraq',\n",
       " 'Hong Kong',\n",
       " 'Belarus',\n",
       " 'Serbia',\n",
       " 'Syria',\n",
       " 'Dominican Republic',\n",
       " 'Denmark',\n",
       " 'Tunisia',\n",
       " 'Norway',\n",
       " 'Nepal',\n",
       " 'Bolivia',\n",
       " 'Guatemala',\n",
       " 'Lebanon',\n",
       " 'Jordan',\n",
       " 'Bulgaria',\n",
       " 'New Zealand',\n",
       " 'Zambia',\n",
       " 'Oman',\n",
       " 'Senegal',\n",
       " 'Angola',\n",
       " 'Cambodia',\n",
       " 'Croatia',\n",
       " 'Paraguay',\n",
       " 'Congo',\n",
       " 'Costa Rica',\n",
       " 'Tanzania',\n",
       " 'Afghanistan',\n",
       " 'Mozambique',\n",
       " 'Bosnia',\n",
       " 'Uruguay',\n",
       " 'Rwanda',\n",
       " 'Lithuania',\n",
       " 'Moldova',\n",
       " 'Panama',\n",
       " 'Georgia',\n",
       " 'Armenia',\n",
       " 'Albania',\n",
       " 'Honduras',\n",
       " 'Tajikistan',\n",
       " 'Malawi',\n",
       " 'Macedonia',\n",
       " 'Haiti',\n",
       " 'Bahrain',\n",
       " 'Laos',\n",
       " 'Jamaica',\n",
       " 'Nicaragua',\n",
       " 'Libya',\n",
       " 'Madagascar',\n",
       " 'Turkmenistan',\n",
       " 'Mauritius',\n",
       " 'Mongolia',\n",
       " 'Botswana',\n",
       " 'Mauritania',\n",
       " 'Namibia',\n",
       " 'Burundi',\n",
       " 'Macau',\n",
       " 'Fiji',\n",
       " 'Swaziland',\n",
       " 'Lesotho',\n",
       " 'Iceland',\n",
       " 'Bhutan',\n",
       " 'Guyana',\n",
       " 'Liberia',\n",
       " 'Suriname',\n",
       " 'Barbados',\n",
       " 'Maldives',\n",
       " 'Somalia',\n",
       " 'Belize',\n",
       " 'Djibouti',\n",
       " 'Aruba',\n",
       " 'Bermuda',\n",
       " 'Vanuatu',\n",
       " 'Comoros',\n",
       " 'Eritrea',\n",
       " 'Seychelles',\n",
       " 'Tonga',\n",
       " 'Bahamas',\n",
       " 'Brunei',\n",
       " 'Cape Verde',\n",
       " 'Cayman Islands',\n",
       " 'Central African Rep.',\n",
       " 'Czech Republic',\n",
       " 'Antigua and Barbuda',\n",
       " 'Falkland Isl., Malvinas',\n",
       " 'French Polynesia',\n",
       " 'The Gambia',\n",
       " 'Gibraltar',\n",
       " 'Guinea (Conakry)',\n",
       " 'Jersey',\n",
       " 'Kyrgyz Republic',\n",
       " 'North Korea',\n",
       " 'Papua New Guinea',\n",
       " 'St. Helena',\n",
       " 'El Salvador',\n",
       " 'Western Samoa',\n",
       " 'St. Tome and Principe',\n",
       " 'Sierra Leone',\n",
       " 'Solomon Islands',\n",
       " 'Trinidad and Tobago',\n",
       " 'Yugoslavia',\n",
       " 'Isle of Man',\n",
       " 'Ireland',\n",
       " 'Yugoslavia']"
      ]
     },
     "execution_count": 46,
     "metadata": {},
     "output_type": "execute_result"
    }
   ],
   "source": [
    "countries = [i.get_text().strip() for i in soup.find('ul', attrs={\"id\":\"gold-price-curriencies-all-us\"}).find_all('li')]\n",
    "countries"
   ]
  },
  {
   "cell_type": "code",
   "execution_count": 50,
   "id": "6307bd30",
   "metadata": {},
   "outputs": [
    {
     "data": {
      "text/plain": [
       "['http://goldpricez.com/cn/gram',\n",
       " 'http://goldpricez.com/eu/gram',\n",
       " 'http://goldpricez.com/br/gram',\n",
       " 'http://goldpricez.com/be/gram',\n",
       " 'http://goldpricez.com/jp/gram',\n",
       " 'http://goldpricez.com/ru/gram',\n",
       " 'http://goldpricez.com/ng/gram',\n",
       " 'http://goldpricez.com/mx/gram',\n",
       " 'http://goldpricez.com/id/gram',\n",
       " 'http://goldpricez.com/vn/gram',\n",
       " 'http://goldpricez.com/kr/gram',\n",
       " 'http://goldpricez.com/tr/gram',\n",
       " 'http://goldpricez.com/ph/gram',\n",
       " 'http://goldpricez.com/ir/gram',\n",
       " 'http://goldpricez.com/eg/gram',\n",
       " 'http://goldpricez.com/ar/gram',\n",
       " 'http://goldpricez.com/za/gram',\n",
       " 'http://goldpricez.com/co/gram',\n",
       " 'http://goldpricez.com/th/gram',\n",
       " 'http://goldpricez.com/pl/gram',\n",
       " 'http://goldpricez.com/ua/gram',\n",
       " 'http://goldpricez.com/my/gram',\n",
       " 'http://goldpricez.com/ke/gram',\n",
       " 'http://goldpricez.com/ma/gram',\n",
       " 'http://goldpricez.com/ve/gram',\n",
       " 'http://goldpricez.com/tw/gram',\n",
       " 'http://goldpricez.com/dz/gram',\n",
       " 'http://goldpricez.com/kz/gram',\n",
       " 'http://goldpricez.com/pe/gram',\n",
       " 'http://goldpricez.com/uz/gram',\n",
       " 'http://goldpricez.com/mm/gram',\n",
       " 'http://goldpricez.com/cl/gram',\n",
       " 'http://goldpricez.com/et/gram',\n",
       " 'http://goldpricez.com/ro/gram',\n",
       " 'http://goldpricez.com/sd/gram',\n",
       " 'http://goldpricez.com/se/gram',\n",
       " 'http://goldpricez.com/az/gram',\n",
       " 'http://goldpricez.com/ug/gram',\n",
       " 'http://goldpricez.com/ch/gram',\n",
       " 'http://goldpricez.com/hu/gram',\n",
       " 'http://goldpricez.com/ye/gram',\n",
       " 'http://goldpricez.com/gh/gram',\n",
       " 'http://goldpricez.com/iq/gram',\n",
       " 'http://goldpricez.com/hk/gram',\n",
       " 'http://goldpricez.com/by/gram',\n",
       " 'http://goldpricez.com/rs/gram',\n",
       " 'http://goldpricez.com/sy/gram',\n",
       " 'http://goldpricez.com/do/gram',\n",
       " 'http://goldpricez.com/dk/gram',\n",
       " 'http://goldpricez.com/tn/gram',\n",
       " 'http://goldpricez.com/no/gram',\n",
       " 'http://goldpricez.com/np/gram',\n",
       " 'http://goldpricez.com/bo/gram',\n",
       " 'http://goldpricez.com/gt/gram',\n",
       " 'http://goldpricez.com/lb/gram',\n",
       " 'http://goldpricez.com/jo/gram',\n",
       " 'http://goldpricez.com/bg/gram',\n",
       " 'http://goldpricez.com/nz/gram',\n",
       " 'http://goldpricez.com/zm/gram',\n",
       " 'http://goldpricez.com/om/gram',\n",
       " 'http://goldpricez.com/sn/gram',\n",
       " 'http://goldpricez.com/ao/gram',\n",
       " 'http://goldpricez.com/kh/gram',\n",
       " 'http://goldpricez.com/hr/gram',\n",
       " 'http://goldpricez.com/py/gram',\n",
       " 'http://goldpricez.com/cd/gram',\n",
       " 'http://goldpricez.com/cr/gram',\n",
       " 'http://goldpricez.com/tz/gram',\n",
       " 'http://goldpricez.com/af/gram',\n",
       " 'http://goldpricez.com/mz/gram',\n",
       " 'http://goldpricez.com/ba/gram',\n",
       " 'http://goldpricez.com/uy/gram',\n",
       " 'http://goldpricez.com/rw/gram',\n",
       " 'http://goldpricez.com/lt/gram',\n",
       " 'http://goldpricez.com/md/gram',\n",
       " 'http://goldpricez.com/pa/gram',\n",
       " 'http://goldpricez.com/ge/gram',\n",
       " 'http://goldpricez.com/am/gram',\n",
       " 'http://goldpricez.com/al/gram',\n",
       " 'http://goldpricez.com/hn/gram',\n",
       " 'http://goldpricez.com/tj/gram',\n",
       " 'http://goldpricez.com/mw/gram',\n",
       " 'http://goldpricez.com/mk/gram',\n",
       " 'http://goldpricez.com/ht/gram',\n",
       " 'http://goldpricez.com/bh/gram',\n",
       " 'http://goldpricez.com/la/gram',\n",
       " 'http://goldpricez.com/jm/gram',\n",
       " 'http://goldpricez.com/ni/gram',\n",
       " 'http://goldpricez.com/ly/gram',\n",
       " 'http://goldpricez.com/mg/gram',\n",
       " 'http://goldpricez.com/tm/gram',\n",
       " 'http://goldpricez.com/mu/gram',\n",
       " 'http://goldpricez.com/mn/gram',\n",
       " 'http://goldpricez.com/bw/gram',\n",
       " 'http://goldpricez.com/mr/gram',\n",
       " 'http://goldpricez.com/na/gram',\n",
       " 'http://goldpricez.com/bi/gram',\n",
       " 'http://goldpricez.com/mo/gram',\n",
       " 'http://goldpricez.com/fj/gram',\n",
       " 'http://goldpricez.com/sz/gram',\n",
       " 'http://goldpricez.com/ls/gram',\n",
       " 'http://goldpricez.com/is/gram',\n",
       " 'http://goldpricez.com/bt/gram',\n",
       " 'http://goldpricez.com/gy/gram',\n",
       " 'http://goldpricez.com/lr/gram',\n",
       " 'http://goldpricez.com/sr/gram',\n",
       " 'http://goldpricez.com/bb/gram',\n",
       " 'http://goldpricez.com/mv/gram',\n",
       " 'http://goldpricez.com/so/gram',\n",
       " 'http://goldpricez.com/bz/gram',\n",
       " 'http://goldpricez.com/dj/gram',\n",
       " 'http://goldpricez.com/aw/gram',\n",
       " 'http://goldpricez.com/bm/gram',\n",
       " 'http://goldpricez.com/vu/gram',\n",
       " 'http://goldpricez.com/km/gram',\n",
       " 'http://goldpricez.com/er/gram',\n",
       " 'http://goldpricez.com/sc/gram',\n",
       " 'http://goldpricez.com/to/gram',\n",
       " 'http://goldpricez.com/bs/gram',\n",
       " 'http://goldpricez.com/bn/gram',\n",
       " 'http://goldpricez.com/cv/gram',\n",
       " 'http://goldpricez.com/ky/gram',\n",
       " 'http://goldpricez.com/cf/gram',\n",
       " 'http://goldpricez.com/cs/gram',\n",
       " 'http://goldpricez.com/ag/gram',\n",
       " 'http://goldpricez.com/fk/gram',\n",
       " 'http://goldpricez.com/pf/gram',\n",
       " 'http://goldpricez.com/gm/gram',\n",
       " 'http://goldpricez.com/gi/gram',\n",
       " 'http://goldpricez.com/gn/gram',\n",
       " 'http://goldpricez.com/je/gram',\n",
       " 'http://goldpricez.com/kg/gram',\n",
       " 'http://goldpricez.com/kp/gram',\n",
       " 'http://goldpricez.com/pg/gram',\n",
       " 'http://goldpricez.com/sh/gram',\n",
       " 'http://goldpricez.com/sv/gram',\n",
       " 'http://goldpricez.com/ws/gram',\n",
       " 'http://goldpricez.com/st/gram',\n",
       " 'http://goldpricez.com/sl/gram',\n",
       " 'http://goldpricez.com/sb/gram',\n",
       " 'http://goldpricez.com/tt/gram',\n",
       " 'http://goldpricez.com/yu/gram',\n",
       " 'http://goldpricez.com/im/gram',\n",
       " 'http://goldpricez.com/ie/gram',\n",
       " 'http://goldpricez.com/yu/gram']"
      ]
     },
     "execution_count": 50,
     "metadata": {},
     "output_type": "execute_result"
    }
   ],
   "source": [
    "links = [i.get('href') for i in soup.find('ul', attrs={\"id\":\"gold-price-curriencies-all-us\"}).find_all('a')]\n",
    "links"
   ]
  },
  {
   "cell_type": "code",
   "execution_count": null,
   "id": "20164b57",
   "metadata": {},
   "outputs": [],
   "source": [
    "with open(\"Gold_All_Countries.csv\",'w') as csv_file:\n",
    "    writer = csv.DictWriter(csv_file,fieldnames=[\"Unit\", \"Price\",\"Country\"])\n",
    "    writer.writeheader()\n",
    "    for url, country_name in zip(links,countries) :     \n",
    "        response = requests.get(url)\n",
    "        soup = BeautifulSoup(response.text,'html.parser')\n",
    "        my_list = [i.get_text().strip() for i in soup.find('table', attrs={\"id\":\"gold_price_table2\"}).find_all('td')]\n",
    "        units = [my_list[i] for i in range(0,len(my_list),2)]\n",
    "        prices = [my_list[i] for i in range(1,len(my_list),2)]\n",
    "        data = {unit: price for unit, price in zip(units,prices)}\n",
    "        for key, value in data.items():\n",
    "            writer.writerow({\"Unit\":key,\"Price\":value,\"Country\":country_name})\n"
   ]
  },
  {
   "cell_type": "code",
   "execution_count": null,
   "id": "1ababc64",
   "metadata": {},
   "outputs": [],
   "source": [
    "import pandas as pd \n",
    "data = df.read_csv('Gold_All_Countries.csv')\n",
    "data.head(10)"
   ]
  },
  {
   "cell_type": "code",
   "execution_count": null,
   "id": "efa4fb41",
   "metadata": {},
   "outputs": [],
   "source": []
  },
  {
   "cell_type": "code",
   "execution_count": 1,
   "id": "60e94cae",
   "metadata": {},
   "outputs": [],
   "source": [
    "import requests\n",
    "import re\n",
    "from bs4 import BeautifulSoup\n",
    "def Youm7(url):\n",
    "    data=requests.get(url).text\n",
    "    soup =BeautifulSoup(data)\n",
    "    title= soup.title.text\n",
    "    image=soup.find('div',attrs={'class':'img-cont'}).find('img')['src']\n",
    "    writer= soup.find('span',attrs={'class':\"writeBy\"}).text\n",
    "    writer= ''.join(writer.split()[1:])\n",
    "    tags= soup.find('meta',attrs={'name':'keywords'})['content'].replace(',','-')\n",
    "    article = soup.find('div',attrs={'id':\"articleBody\"}).text\n",
    "    article=re.sub(\"[^0-9 ء-ي/A-Z%@.]\",'',article)\n",
    "    result={'url':url,'title':title,'image':image,'writer':writer,'tags':tags,'article':article}\n",
    "    save(result)\n",
    "    return result\n",
    "ff = open('Youm7.csv', 'a+',encoding='UTF-8')\n",
    "def save(data):\n",
    "    ff.write(data['url']+\",\"+data['title']+\",\"+data['image']+\",\"+data['writer']+\",\"+data['tags']+\",\"+data['article']+\",\"+\"\\n\")"
   ]
  },
  {
   "cell_type": "code",
   "execution_count": 2,
   "id": "699dc150",
   "metadata": {},
   "outputs": [
    {
     "data": {
      "text/plain": [
       "{'url': 'https://www.youm7.com/story/2021/9/26/%D8%A7%D9%86%D8%B7%D9%84%D8%A7%D9%82-%D9%81%D8%B9%D8%A7%D9%84%D9%8A%D8%A7%D8%AA-%D8%A7%D9%84%D8%AF%D9%88%D8%B1%D8%A9-%D8%A7%D9%84%D8%B9%D8%A7%D8%B4%D8%B1%D8%A9-%D9%85%D9%86-%D8%A7%D9%84%D9%85%D9%86%D8%AA%D8%AF%D9%89-%D8%A7%D9%84%D8%AF%D9%88%D9%84%D9%89-%D9%84%D9%84%D8%A7%D8%AA%D8%B5%D8%A7%D9%84-%D8%A7%D9%84%D8%AD%D9%83%D9%88%D9%85%D9%89-%D8%A8%D8%A7%D9%84%D8%B4%D8%A7%D8%B1%D9%82%D8%A9/5473583',\n",
       " 'title': 'انطلاق فعاليات الدورة العاشرة من المنتدى الدولى للاتصال الحكومى بالشارقة - اليوم السابع',\n",
       " 'image': 'https://img.youm7.com/large/202109260958435843.jpg',\n",
       " 'writer': 'محمدالسيد',\n",
       " 'tags': 'المنتدى الدولي للاتصال الحكومي-اكسبو الشارقة-اخبار الشارقة-منتدى الاتصال الحكومى-اخر الاخبار',\n",
       " 'article': 'انطلقت منذ قليل فعاليات الدورة العاشرة من المنتدى الدولي للاتصال الحكومي الذي ينظمه المركز الدولي للاتصال الحكومي التابع للمكتب الإعلامي لحكومة الشارقة في مركز إكسبو الشارقة تحت رعاية الشيخ الدكتور سلطان بن محمد القاسمي عضو المجلس الأعلى حاكم الشارقة وبحضور 79 شخصية محلية وإقليمية وعالمية تضم رؤساء دول سابقين ووزراء وصناع قرار ومسؤولين حكوميين إلى جانب نخبة من المؤثرين والإعلاميين.يقدم المنتدى الدولي للاتصال الحكومي في دورته الجديدة التي تقام تحت شعار دروس الماضي تطلعات المستقبل نماذج بارزة في الاتصال والتواصل مع الشعوب والمجتمعات في ظروف مختلفة ويركز على صناع السياسات ومن أسهموا في نقل الثقافة العربية للعالم.يشارك فى المنتدى الأمير تركي الفيصل بن عبد العزيز آل سعود و أحمد أبو الغيط الأمين العام جامعة الدول العربية و الدكتور نايف الحجرف أمين عام مجلس التعاون لدول الخليج العربية ومن أبرز المتحدثين الذين تضمهم قائمة ضيوف المنتدى توماس هندريك إلفيس رئيس جمهورية إستونيا السابق وبارون فيليب هاموند وزير الخزانة السابق ووزير دولة أسبق للشؤون الخارجية وعضو مجلس اللوردات في المملكة المتحدة وديفيد هلبرن الرئيس التنفيذي ومدير مجلس إدارة فريق الرؤى السلوكية في المملكة المتحدة وإليزابيث ليندر مؤسس قسم السياسة والحكومة على F ومؤسسC C والفنان عابد فهد والإعلامي مالك مكتبي وصانع محتوى اليوتيوب أحمد الغندور والفنانة ريمي عقل.ويناقش المنتدى على مدى يومين آليات تعزيز جهوزية الحكومات والمؤسسات لمواكبة التحول الذي تفرضه المتغيرات والتأثير في توجهاتها لصالح استقرار المجتمعات وجودة حياة الناس كما يتطرق إلى كيفية التعامل مع الأزمات المحلية والدولية وماهية الخطاب المناسب لكل أزمة وجمهور وآثار الاتصال الحكومي بعيدة المدى في الأوقات الاستثنائية إلى جانب آليات صناعة المحتوى على المنصات الاجتماعية وتوسيع التخصصات داخل إدارات الاتصال الحكومي لتشمل علماء النفس والاقتصاد السلوكي وتحليل البيانات.ويتضمن المنتدى 31 فعالية موزعة على سبع جلسات حوارية وخمسة خطابات ملهمة وسبع ورش تدريبية و12 منصة تفاعلية تستشرف في مجملها مستقبل الاتصال الحكومي إقليميا وعالميا من حيث الأدوات والخبرات والتخصصات والمنهجيات المتوقعة.'}"
      ]
     },
     "execution_count": 2,
     "metadata": {},
     "output_type": "execute_result"
    }
   ],
   "source": [
    "Youm7(\"https://www.youm7.com/story/2021/9/26/%D8%A7%D9%86%D8%B7%D9%84%D8%A7%D9%82-%D9%81%D8%B9%D8%A7%D9%84%D9%8A%D8%A7%D8%AA-%D8%A7%D9%84%D8%AF%D9%88%D8%B1%D8%A9-%D8%A7%D9%84%D8%B9%D8%A7%D8%B4%D8%B1%D8%A9-%D9%85%D9%86-%D8%A7%D9%84%D9%85%D9%86%D8%AA%D8%AF%D9%89-%D8%A7%D9%84%D8%AF%D9%88%D9%84%D9%89-%D9%84%D9%84%D8%A7%D8%AA%D8%B5%D8%A7%D9%84-%D8%A7%D9%84%D8%AD%D9%83%D9%88%D9%85%D9%89-%D8%A8%D8%A7%D9%84%D8%B4%D8%A7%D8%B1%D9%82%D8%A9/5473583\")"
   ]
  },
  {
   "cell_type": "code",
   "execution_count": 3,
   "id": "d5e3ba25",
   "metadata": {},
   "outputs": [],
   "source": [
    "ff.close()"
   ]
  },
  {
   "cell_type": "code",
   "execution_count": null,
   "id": "44fa740a",
   "metadata": {},
   "outputs": [],
   "source": []
  }
 ],
 "metadata": {
  "kernelspec": {
   "display_name": "Python 3 (ipykernel)",
   "language": "python",
   "name": "python3"
  },
  "language_info": {
   "codemirror_mode": {
    "name": "ipython",
    "version": 3
   },
   "file_extension": ".py",
   "mimetype": "text/x-python",
   "name": "python",
   "nbconvert_exporter": "python",
   "pygments_lexer": "ipython3",
   "version": "3.9.7"
  }
 },
 "nbformat": 4,
 "nbformat_minor": 5
}
